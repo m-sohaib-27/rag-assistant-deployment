{
 "cells": [
  {
   "cell_type": "code",
   "execution_count": 1,
   "id": "7a0c8a25-d51b-49cd-b0c7-b5f0f73d4bf7",
   "metadata": {},
   "outputs": [
    {
     "name": "stdout",
     "output_type": "stream",
     "text": [
      "v22.18.0\n",
      "C:\\Program Files\\nodejs\\node.exe\n"
     ]
    }
   ],
   "source": [
    "!node -v\n",
    "!where node\n"
   ]
  },
  {
   "cell_type": "code",
   "execution_count": 3,
   "id": "f969f86e-960c-4643-bad0-f4c2529587a6",
   "metadata": {},
   "outputs": [],
   "source": [
    "!findstr /S /I \"Node.js not found\" E:\\rag-assistant-deployment\\*.py\n",
    "\n"
   ]
  },
  {
   "cell_type": "code",
   "execution_count": null,
   "id": "4c529756-9726-4189-9b10-e79df1e7497a",
   "metadata": {},
   "outputs": [],
   "source": []
  }
 ],
 "metadata": {
  "kernelspec": {
   "display_name": "Python 3 (ipykernel)",
   "language": "python",
   "name": "python3"
  },
  "language_info": {
   "codemirror_mode": {
    "name": "ipython",
    "version": 3
   },
   "file_extension": ".py",
   "mimetype": "text/x-python",
   "name": "python",
   "nbconvert_exporter": "python",
   "pygments_lexer": "ipython3",
   "version": "3.13.5"
  }
 },
 "nbformat": 4,
 "nbformat_minor": 5
}
